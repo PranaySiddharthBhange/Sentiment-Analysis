{
 "cells": [
  {
   "cell_type": "code",
   "execution_count": 2,
   "metadata": {
    "_cell_guid": "b1076dfc-b9ad-4769-8c92-a6c4dae69d19",
    "_uuid": "8f2839f25d086af736a60e9eeb907d3b93b6e0e5",
    "execution": {
     "iopub.execute_input": "2024-02-09T06:08:45.943059Z",
     "iopub.status.busy": "2024-02-09T06:08:45.942641Z",
     "iopub.status.idle": "2024-02-09T06:08:49.577407Z",
     "shell.execute_reply": "2024-02-09T06:08:49.576194Z",
     "shell.execute_reply.started": "2024-02-09T06:08:45.943024Z"
    }
   },
   "outputs": [],
   "source": [
    "import numpy as np\n",
    "import pandas as pd\n",
    "import re #regular expression\n",
    "from nltk.corpus import stopwords\n",
    "from nltk.stem.porter import PorterStemmer\n",
    "from sklearn.feature_extraction.text import TfidfVectorizer\n",
    "from sklearn.model_selection import train_test_split\n",
    "from sklearn.linear_model import LogisticRegression\n",
    "from sklearn.metrics import accuracy_score"
   ]
  },
  {
   "cell_type": "code",
   "execution_count": 3,
   "metadata": {
    "execution": {
     "iopub.execute_input": "2024-02-09T06:08:54.617591Z",
     "iopub.status.busy": "2024-02-09T06:08:54.617054Z",
     "iopub.status.idle": "2024-02-09T06:09:31.157798Z",
     "shell.execute_reply": "2024-02-09T06:09:31.156019Z",
     "shell.execute_reply.started": "2024-02-09T06:08:54.617561Z"
    }
   },
   "outputs": [
    {
     "name": "stdout",
     "output_type": "stream",
     "text": [
      "Defaulting to user installation because normal site-packages is not writeable\n",
      "Requirement already satisfied: nltk in /home/op_pranay/.local/lib/python3.10/site-packages (3.8.1)\n",
      "Requirement already satisfied: tqdm in /home/op_pranay/.local/lib/python3.10/site-packages (from nltk) (4.66.2)\n",
      "Requirement already satisfied: regex>=2021.8.3 in /home/op_pranay/.local/lib/python3.10/site-packages (from nltk) (2023.12.25)\n",
      "Requirement already satisfied: joblib in /home/op_pranay/.local/lib/python3.10/site-packages (from nltk) (1.3.2)\n",
      "Requirement already satisfied: click in /home/op_pranay/.local/lib/python3.10/site-packages (from nltk) (8.1.7)\n",
      "Note: you may need to restart the kernel to use updated packages.\n"
     ]
    }
   ],
   "source": [
    "pip install nltk\n"
   ]
  },
  {
   "cell_type": "code",
   "execution_count": 4,
   "metadata": {
    "execution": {
     "iopub.execute_input": "2024-02-09T06:09:38.739042Z",
     "iopub.status.busy": "2024-02-09T06:09:38.738585Z",
     "iopub.status.idle": "2024-02-09T06:09:38.745312Z",
     "shell.execute_reply": "2024-02-09T06:09:38.743827Z",
     "shell.execute_reply.started": "2024-02-09T06:09:38.739002Z"
    }
   },
   "outputs": [],
   "source": [
    "from nltk.corpus import stopwords\n"
   ]
  },
  {
   "cell_type": "code",
   "execution_count": 5,
   "metadata": {
    "execution": {
     "iopub.execute_input": "2024-02-09T06:09:40.768858Z",
     "iopub.status.busy": "2024-02-09T06:09:40.768403Z",
     "iopub.status.idle": "2024-02-09T06:09:40.783318Z",
     "shell.execute_reply": "2024-02-09T06:09:40.781708Z",
     "shell.execute_reply.started": "2024-02-09T06:09:40.768824Z"
    }
   },
   "outputs": [
    {
     "name": "stdout",
     "output_type": "stream",
     "text": [
      "['i', 'me', 'my', 'myself', 'we', 'our', 'ours', 'ourselves', 'you', \"you're\", \"you've\", \"you'll\", \"you'd\", 'your', 'yours', 'yourself', 'yourselves', 'he', 'him', 'his', 'himself', 'she', \"she's\", 'her', 'hers', 'herself', 'it', \"it's\", 'its', 'itself', 'they', 'them', 'their', 'theirs', 'themselves', 'what', 'which', 'who', 'whom', 'this', 'that', \"that'll\", 'these', 'those', 'am', 'is', 'are', 'was', 'were', 'be', 'been', 'being', 'have', 'has', 'had', 'having', 'do', 'does', 'did', 'doing', 'a', 'an', 'the', 'and', 'but', 'if', 'or', 'because', 'as', 'until', 'while', 'of', 'at', 'by', 'for', 'with', 'about', 'against', 'between', 'into', 'through', 'during', 'before', 'after', 'above', 'below', 'to', 'from', 'up', 'down', 'in', 'out', 'on', 'off', 'over', 'under', 'again', 'further', 'then', 'once', 'here', 'there', 'when', 'where', 'why', 'how', 'all', 'any', 'both', 'each', 'few', 'more', 'most', 'other', 'some', 'such', 'no', 'nor', 'not', 'only', 'own', 'same', 'so', 'than', 'too', 'very', 's', 't', 'can', 'will', 'just', 'don', \"don't\", 'should', \"should've\", 'now', 'd', 'll', 'm', 'o', 're', 've', 'y', 'ain', 'aren', \"aren't\", 'couldn', \"couldn't\", 'didn', \"didn't\", 'doesn', \"doesn't\", 'hadn', \"hadn't\", 'hasn', \"hasn't\", 'haven', \"haven't\", 'isn', \"isn't\", 'ma', 'mightn', \"mightn't\", 'mustn', \"mustn't\", 'needn', \"needn't\", 'shan', \"shan't\", 'shouldn', \"shouldn't\", 'wasn', \"wasn't\", 'weren', \"weren't\", 'won', \"won't\", 'wouldn', \"wouldn't\"]\n"
     ]
    }
   ],
   "source": [
    "#printing stopwords in english (stopwords doesnt add any meaning )\n",
    "print(stopwords.words('english'))"
   ]
  },
  {
   "cell_type": "code",
   "execution_count": 6,
   "metadata": {
    "execution": {
     "iopub.execute_input": "2024-02-09T06:09:56.098419Z",
     "iopub.status.busy": "2024-02-09T06:09:56.097451Z",
     "iopub.status.idle": "2024-02-09T06:10:05.115840Z",
     "shell.execute_reply": "2024-02-09T06:10:05.114963Z",
     "shell.execute_reply.started": "2024-02-09T06:09:56.098384Z"
    }
   },
   "outputs": [],
   "source": [
    "#loading data from csv file to pandas dataframe\n",
    "\n",
    "twitter_data = pd.read_csv('dataset.csv', encoding = 'ISO-8859-1')"
   ]
  },
  {
   "cell_type": "code",
   "execution_count": 7,
   "metadata": {
    "execution": {
     "iopub.execute_input": "2024-02-09T06:10:17.448295Z",
     "iopub.status.busy": "2024-02-09T06:10:17.447838Z",
     "iopub.status.idle": "2024-02-09T06:10:17.458479Z",
     "shell.execute_reply": "2024-02-09T06:10:17.456895Z",
     "shell.execute_reply.started": "2024-02-09T06:10:17.448263Z"
    }
   },
   "outputs": [
    {
     "data": {
      "text/plain": [
       "(1599999, 6)"
      ]
     },
     "execution_count": 7,
     "metadata": {},
     "output_type": "execute_result"
    }
   ],
   "source": [
    "#checking no of rows and columns(rows=total no of tweets)\n",
    "twitter_data.shape\n"
   ]
  },
  {
   "cell_type": "code",
   "execution_count": 8,
   "metadata": {
    "execution": {
     "iopub.execute_input": "2024-02-09T06:10:27.004246Z",
     "iopub.status.busy": "2024-02-09T06:10:27.003657Z",
     "iopub.status.idle": "2024-02-09T06:10:27.030389Z",
     "shell.execute_reply": "2024-02-09T06:10:27.028683Z",
     "shell.execute_reply.started": "2024-02-09T06:10:27.004203Z"
    }
   },
   "outputs": [
    {
     "data": {
      "text/html": [
       "<div>\n",
       "<style scoped>\n",
       "    .dataframe tbody tr th:only-of-type {\n",
       "        vertical-align: middle;\n",
       "    }\n",
       "\n",
       "    .dataframe tbody tr th {\n",
       "        vertical-align: top;\n",
       "    }\n",
       "\n",
       "    .dataframe thead th {\n",
       "        text-align: right;\n",
       "    }\n",
       "</style>\n",
       "<table border=\"1\" class=\"dataframe\">\n",
       "  <thead>\n",
       "    <tr style=\"text-align: right;\">\n",
       "      <th></th>\n",
       "      <th>0</th>\n",
       "      <th>1467810369</th>\n",
       "      <th>Mon Apr 06 22:19:45 PDT 2009</th>\n",
       "      <th>NO_QUERY</th>\n",
       "      <th>_TheSpecialOne_</th>\n",
       "      <th>@switchfoot http://twitpic.com/2y1zl - Awww, that's a bummer.  You shoulda got David Carr of Third Day to do it. ;D</th>\n",
       "    </tr>\n",
       "  </thead>\n",
       "  <tbody>\n",
       "    <tr>\n",
       "      <th>0</th>\n",
       "      <td>0</td>\n",
       "      <td>1467810672</td>\n",
       "      <td>Mon Apr 06 22:19:49 PDT 2009</td>\n",
       "      <td>NO_QUERY</td>\n",
       "      <td>scotthamilton</td>\n",
       "      <td>is upset that he can't update his Facebook by ...</td>\n",
       "    </tr>\n",
       "    <tr>\n",
       "      <th>1</th>\n",
       "      <td>0</td>\n",
       "      <td>1467810917</td>\n",
       "      <td>Mon Apr 06 22:19:53 PDT 2009</td>\n",
       "      <td>NO_QUERY</td>\n",
       "      <td>mattycus</td>\n",
       "      <td>@Kenichan I dived many times for the ball. Man...</td>\n",
       "    </tr>\n",
       "    <tr>\n",
       "      <th>2</th>\n",
       "      <td>0</td>\n",
       "      <td>1467811184</td>\n",
       "      <td>Mon Apr 06 22:19:57 PDT 2009</td>\n",
       "      <td>NO_QUERY</td>\n",
       "      <td>ElleCTF</td>\n",
       "      <td>my whole body feels itchy and like its on fire</td>\n",
       "    </tr>\n",
       "    <tr>\n",
       "      <th>3</th>\n",
       "      <td>0</td>\n",
       "      <td>1467811193</td>\n",
       "      <td>Mon Apr 06 22:19:57 PDT 2009</td>\n",
       "      <td>NO_QUERY</td>\n",
       "      <td>Karoli</td>\n",
       "      <td>@nationwideclass no, it's not behaving at all....</td>\n",
       "    </tr>\n",
       "    <tr>\n",
       "      <th>4</th>\n",
       "      <td>0</td>\n",
       "      <td>1467811372</td>\n",
       "      <td>Mon Apr 06 22:20:00 PDT 2009</td>\n",
       "      <td>NO_QUERY</td>\n",
       "      <td>joy_wolf</td>\n",
       "      <td>@Kwesidei not the whole crew</td>\n",
       "    </tr>\n",
       "  </tbody>\n",
       "</table>\n",
       "</div>"
      ],
      "text/plain": [
       "   0  1467810369  Mon Apr 06 22:19:45 PDT 2009  NO_QUERY _TheSpecialOne_  \\\n",
       "0  0  1467810672  Mon Apr 06 22:19:49 PDT 2009  NO_QUERY   scotthamilton   \n",
       "1  0  1467810917  Mon Apr 06 22:19:53 PDT 2009  NO_QUERY        mattycus   \n",
       "2  0  1467811184  Mon Apr 06 22:19:57 PDT 2009  NO_QUERY         ElleCTF   \n",
       "3  0  1467811193  Mon Apr 06 22:19:57 PDT 2009  NO_QUERY          Karoli   \n",
       "4  0  1467811372  Mon Apr 06 22:20:00 PDT 2009  NO_QUERY        joy_wolf   \n",
       "\n",
       "  @switchfoot http://twitpic.com/2y1zl - Awww, that's a bummer.  You shoulda got David Carr of Third Day to do it. ;D  \n",
       "0  is upset that he can't update his Facebook by ...                                                                   \n",
       "1  @Kenichan I dived many times for the ball. Man...                                                                   \n",
       "2    my whole body feels itchy and like its on fire                                                                    \n",
       "3  @nationwideclass no, it's not behaving at all....                                                                   \n",
       "4                      @Kwesidei not the whole crew                                                                    "
      ]
     },
     "execution_count": 8,
     "metadata": {},
     "output_type": "execute_result"
    }
   ],
   "source": [
    "#printing first five rows of the dataframe\n",
    "twitter_data.head()"
   ]
  },
  {
   "cell_type": "code",
   "execution_count": 9,
   "metadata": {
    "execution": {
     "iopub.execute_input": "2024-02-09T06:10:30.358472Z",
     "iopub.status.busy": "2024-02-09T06:10:30.357975Z",
     "iopub.status.idle": "2024-02-09T06:10:36.040285Z",
     "shell.execute_reply": "2024-02-09T06:10:36.039353Z",
     "shell.execute_reply.started": "2024-02-09T06:10:30.358435Z"
    }
   },
   "outputs": [],
   "source": [
    "#naming columns and readng ds again\n",
    "\n",
    "column_names = ['target','id','date','flag','user','text']\n",
    "twitter_data = pd.read_csv('dataset.csv',names = column_names, encoding = 'ISO-8859-1')"
   ]
  },
  {
   "cell_type": "code",
   "execution_count": 10,
   "metadata": {
    "execution": {
     "iopub.execute_input": "2024-02-09T06:10:48.455955Z",
     "iopub.status.busy": "2024-02-09T06:10:48.454519Z",
     "iopub.status.idle": "2024-02-09T06:10:48.464223Z",
     "shell.execute_reply": "2024-02-09T06:10:48.462576Z",
     "shell.execute_reply.started": "2024-02-09T06:10:48.455903Z"
    }
   },
   "outputs": [
    {
     "data": {
      "text/plain": [
       "(1600000, 6)"
      ]
     },
     "execution_count": 10,
     "metadata": {},
     "output_type": "execute_result"
    }
   ],
   "source": [
    "twitter_data.shape\n"
   ]
  },
  {
   "cell_type": "code",
   "execution_count": 11,
   "metadata": {
    "execution": {
     "iopub.execute_input": "2024-02-09T06:10:50.740544Z",
     "iopub.status.busy": "2024-02-09T06:10:50.739807Z",
     "iopub.status.idle": "2024-02-09T06:10:50.756579Z",
     "shell.execute_reply": "2024-02-09T06:10:50.755045Z",
     "shell.execute_reply.started": "2024-02-09T06:10:50.740494Z"
    }
   },
   "outputs": [
    {
     "data": {
      "text/html": [
       "<div>\n",
       "<style scoped>\n",
       "    .dataframe tbody tr th:only-of-type {\n",
       "        vertical-align: middle;\n",
       "    }\n",
       "\n",
       "    .dataframe tbody tr th {\n",
       "        vertical-align: top;\n",
       "    }\n",
       "\n",
       "    .dataframe thead th {\n",
       "        text-align: right;\n",
       "    }\n",
       "</style>\n",
       "<table border=\"1\" class=\"dataframe\">\n",
       "  <thead>\n",
       "    <tr style=\"text-align: right;\">\n",
       "      <th></th>\n",
       "      <th>target</th>\n",
       "      <th>id</th>\n",
       "      <th>date</th>\n",
       "      <th>flag</th>\n",
       "      <th>user</th>\n",
       "      <th>text</th>\n",
       "    </tr>\n",
       "  </thead>\n",
       "  <tbody>\n",
       "    <tr>\n",
       "      <th>0</th>\n",
       "      <td>0</td>\n",
       "      <td>1467810369</td>\n",
       "      <td>Mon Apr 06 22:19:45 PDT 2009</td>\n",
       "      <td>NO_QUERY</td>\n",
       "      <td>_TheSpecialOne_</td>\n",
       "      <td>@switchfoot http://twitpic.com/2y1zl - Awww, t...</td>\n",
       "    </tr>\n",
       "    <tr>\n",
       "      <th>1</th>\n",
       "      <td>0</td>\n",
       "      <td>1467810672</td>\n",
       "      <td>Mon Apr 06 22:19:49 PDT 2009</td>\n",
       "      <td>NO_QUERY</td>\n",
       "      <td>scotthamilton</td>\n",
       "      <td>is upset that he can't update his Facebook by ...</td>\n",
       "    </tr>\n",
       "    <tr>\n",
       "      <th>2</th>\n",
       "      <td>0</td>\n",
       "      <td>1467810917</td>\n",
       "      <td>Mon Apr 06 22:19:53 PDT 2009</td>\n",
       "      <td>NO_QUERY</td>\n",
       "      <td>mattycus</td>\n",
       "      <td>@Kenichan I dived many times for the ball. Man...</td>\n",
       "    </tr>\n",
       "    <tr>\n",
       "      <th>3</th>\n",
       "      <td>0</td>\n",
       "      <td>1467811184</td>\n",
       "      <td>Mon Apr 06 22:19:57 PDT 2009</td>\n",
       "      <td>NO_QUERY</td>\n",
       "      <td>ElleCTF</td>\n",
       "      <td>my whole body feels itchy and like its on fire</td>\n",
       "    </tr>\n",
       "    <tr>\n",
       "      <th>4</th>\n",
       "      <td>0</td>\n",
       "      <td>1467811193</td>\n",
       "      <td>Mon Apr 06 22:19:57 PDT 2009</td>\n",
       "      <td>NO_QUERY</td>\n",
       "      <td>Karoli</td>\n",
       "      <td>@nationwideclass no, it's not behaving at all....</td>\n",
       "    </tr>\n",
       "  </tbody>\n",
       "</table>\n",
       "</div>"
      ],
      "text/plain": [
       "   target          id                          date      flag  \\\n",
       "0       0  1467810369  Mon Apr 06 22:19:45 PDT 2009  NO_QUERY   \n",
       "1       0  1467810672  Mon Apr 06 22:19:49 PDT 2009  NO_QUERY   \n",
       "2       0  1467810917  Mon Apr 06 22:19:53 PDT 2009  NO_QUERY   \n",
       "3       0  1467811184  Mon Apr 06 22:19:57 PDT 2009  NO_QUERY   \n",
       "4       0  1467811193  Mon Apr 06 22:19:57 PDT 2009  NO_QUERY   \n",
       "\n",
       "              user                                               text  \n",
       "0  _TheSpecialOne_  @switchfoot http://twitpic.com/2y1zl - Awww, t...  \n",
       "1    scotthamilton  is upset that he can't update his Facebook by ...  \n",
       "2         mattycus  @Kenichan I dived many times for the ball. Man...  \n",
       "3          ElleCTF    my whole body feels itchy and like its on fire   \n",
       "4           Karoli  @nationwideclass no, it's not behaving at all....  "
      ]
     },
     "execution_count": 11,
     "metadata": {},
     "output_type": "execute_result"
    }
   ],
   "source": [
    "twitter_data.head()"
   ]
  },
  {
   "cell_type": "code",
   "execution_count": 12,
   "metadata": {
    "execution": {
     "iopub.execute_input": "2024-02-09T06:10:53.610208Z",
     "iopub.status.busy": "2024-02-09T06:10:53.609756Z",
     "iopub.status.idle": "2024-02-09T06:10:54.346539Z",
     "shell.execute_reply": "2024-02-09T06:10:54.345002Z",
     "shell.execute_reply.started": "2024-02-09T06:10:53.610173Z"
    }
   },
   "outputs": [
    {
     "data": {
      "text/plain": [
       "target    0\n",
       "id        0\n",
       "date      0\n",
       "flag      0\n",
       "user      0\n",
       "text      0\n",
       "dtype: int64"
      ]
     },
     "execution_count": 12,
     "metadata": {},
     "output_type": "execute_result"
    }
   ],
   "source": [
    "#check missing values\n",
    "twitter_data.isnull().sum()"
   ]
  },
  {
   "cell_type": "code",
   "execution_count": 13,
   "metadata": {
    "execution": {
     "iopub.execute_input": "2024-02-09T06:10:55.873978Z",
     "iopub.status.busy": "2024-02-09T06:10:55.873463Z",
     "iopub.status.idle": "2024-02-09T06:10:55.908291Z",
     "shell.execute_reply": "2024-02-09T06:10:55.907005Z",
     "shell.execute_reply.started": "2024-02-09T06:10:55.873942Z"
    }
   },
   "outputs": [
    {
     "data": {
      "text/plain": [
       "target\n",
       "0    800000\n",
       "4    800000\n",
       "Name: count, dtype: int64"
      ]
     },
     "execution_count": 13,
     "metadata": {},
     "output_type": "execute_result"
    }
   ],
   "source": [
    "#checking distribution of target column\n",
    "\n",
    "twitter_data['target'].value_counts()"
   ]
  },
  {
   "cell_type": "code",
   "execution_count": 14,
   "metadata": {
    "execution": {
     "iopub.execute_input": "2024-02-09T06:10:58.933677Z",
     "iopub.status.busy": "2024-02-09T06:10:58.933144Z",
     "iopub.status.idle": "2024-02-09T06:10:58.957410Z",
     "shell.execute_reply": "2024-02-09T06:10:58.955827Z",
     "shell.execute_reply.started": "2024-02-09T06:10:58.933634Z"
    }
   },
   "outputs": [],
   "source": [
    "#CONVERT TARGET 4 TO 1\n",
    "twitter_data.replace({'target':{4:1}}, inplace=True)"
   ]
  },
  {
   "cell_type": "code",
   "execution_count": 15,
   "metadata": {
    "execution": {
     "iopub.execute_input": "2024-02-09T06:11:20.615814Z",
     "iopub.status.busy": "2024-02-09T06:11:20.615384Z",
     "iopub.status.idle": "2024-02-09T06:11:20.642142Z",
     "shell.execute_reply": "2024-02-09T06:11:20.640618Z",
     "shell.execute_reply.started": "2024-02-09T06:11:20.615783Z"
    }
   },
   "outputs": [
    {
     "data": {
      "text/plain": [
       "target\n",
       "0    800000\n",
       "1    800000\n",
       "Name: count, dtype: int64"
      ]
     },
     "execution_count": 15,
     "metadata": {},
     "output_type": "execute_result"
    }
   ],
   "source": [
    "twitter_data['target'].value_counts()"
   ]
  },
  {
   "cell_type": "markdown",
   "metadata": {},
   "source": [
    "0 -- NEGATIVE TWEET, 1-- POSITIVE TWEET"
   ]
  },
  {
   "cell_type": "markdown",
   "metadata": {},
   "source": [
    "STEMMING - PROCESS OF REDUCING WORD TO ITS KEYWORD(ROOTWORD)"
   ]
  },
  {
   "cell_type": "code",
   "execution_count": 16,
   "metadata": {
    "execution": {
     "iopub.execute_input": "2024-02-09T06:11:28.582817Z",
     "iopub.status.busy": "2024-02-09T06:11:28.582368Z",
     "iopub.status.idle": "2024-02-09T06:11:28.588883Z",
     "shell.execute_reply": "2024-02-09T06:11:28.587322Z",
     "shell.execute_reply.started": "2024-02-09T06:11:28.582782Z"
    }
   },
   "outputs": [],
   "source": [
    "port_stem = PorterStemmer()"
   ]
  },
  {
   "cell_type": "code",
   "execution_count": 19,
   "metadata": {
    "execution": {
     "iopub.execute_input": "2024-02-09T06:11:52.299250Z",
     "iopub.status.busy": "2024-02-09T06:11:52.298779Z",
     "iopub.status.idle": "2024-02-09T06:11:52.307581Z",
     "shell.execute_reply": "2024-02-09T06:11:52.306018Z",
     "shell.execute_reply.started": "2024-02-09T06:11:52.299215Z"
    }
   },
   "outputs": [],
   "source": [
    "def stemming(content):\n",
    "  stemmed_content = re.sub('[^a-zA-Z]',' ',content)\n",
    "  stemmed_content = stemmed_content.lower()\n",
    "  stemmed_content = stemmed_content.split()\n",
    "  stemmed_content = [port_stem.stem(word) for word in stemmed_content if not word in stopwords.words('english')]\n",
    "  stemmed_content = ' '.join(stemmed_content)\n",
    "\n",
    "  return stemmed_content\n"
   ]
  },
  {
   "cell_type": "code",
   "execution_count": null,
   "metadata": {
    "execution": {
     "iopub.execute_input": "2024-02-09T06:45:28.603614Z",
     "iopub.status.busy": "2024-02-09T06:45:28.603235Z",
     "iopub.status.idle": "2024-02-09T07:46:55.801266Z",
     "shell.execute_reply": "2024-02-09T07:46:55.799477Z",
     "shell.execute_reply.started": "2024-02-09T06:45:28.603582Z"
    }
   },
   "outputs": [],
   "source": [
    "twitter_data['stemmed_content'] = twitter_data['text'].apply(stemming)"
   ]
  },
  {
   "cell_type": "code",
   "execution_count": null,
   "metadata": {
    "execution": {
     "iopub.execute_input": "2024-02-09T07:47:17.468725Z",
     "iopub.status.busy": "2024-02-09T07:47:17.468207Z",
     "iopub.status.idle": "2024-02-09T07:47:17.488948Z",
     "shell.execute_reply": "2024-02-09T07:47:17.487075Z",
     "shell.execute_reply.started": "2024-02-09T07:47:17.468672Z"
    }
   },
   "outputs": [],
   "source": [
    "twitter_data.head()"
   ]
  },
  {
   "cell_type": "code",
   "execution_count": null,
   "metadata": {
    "execution": {
     "iopub.execute_input": "2024-02-09T07:47:21.669271Z",
     "iopub.status.busy": "2024-02-09T07:47:21.668783Z",
     "iopub.status.idle": "2024-02-09T07:47:21.680272Z",
     "shell.execute_reply": "2024-02-09T07:47:21.678751Z",
     "shell.execute_reply.started": "2024-02-09T07:47:21.669236Z"
    }
   },
   "outputs": [],
   "source": [
    "print(twitter_data['stemmed_content'])"
   ]
  },
  {
   "cell_type": "code",
   "execution_count": null,
   "metadata": {
    "execution": {
     "iopub.execute_input": "2024-02-09T07:47:24.893979Z",
     "iopub.status.busy": "2024-02-09T07:47:24.893470Z",
     "iopub.status.idle": "2024-02-09T07:47:24.901881Z",
     "shell.execute_reply": "2024-02-09T07:47:24.900573Z",
     "shell.execute_reply.started": "2024-02-09T07:47:24.893939Z"
    }
   },
   "outputs": [],
   "source": [
    "print(twitter_data['target'])"
   ]
  },
  {
   "cell_type": "code",
   "execution_count": null,
   "metadata": {
    "execution": {
     "iopub.execute_input": "2024-02-09T07:47:27.448979Z",
     "iopub.status.busy": "2024-02-09T07:47:27.448475Z",
     "iopub.status.idle": "2024-02-09T07:47:27.456216Z",
     "shell.execute_reply": "2024-02-09T07:47:27.454537Z",
     "shell.execute_reply.started": "2024-02-09T07:47:27.448942Z"
    }
   },
   "outputs": [],
   "source": [
    "#seperation\n",
    "X = twitter_data['stemmed_content'].values\n",
    "Y = twitter_data['target'].values"
   ]
  },
  {
   "cell_type": "code",
   "execution_count": null,
   "metadata": {
    "execution": {
     "iopub.execute_input": "2024-02-09T07:47:29.863330Z",
     "iopub.status.busy": "2024-02-09T07:47:29.862923Z",
     "iopub.status.idle": "2024-02-09T07:47:29.872693Z",
     "shell.execute_reply": "2024-02-09T07:47:29.871028Z",
     "shell.execute_reply.started": "2024-02-09T07:47:29.863298Z"
    }
   },
   "outputs": [],
   "source": [
    "print(X)"
   ]
  },
  {
   "cell_type": "code",
   "execution_count": null,
   "metadata": {
    "execution": {
     "iopub.execute_input": "2024-02-09T07:47:32.188506Z",
     "iopub.status.busy": "2024-02-09T07:47:32.188016Z",
     "iopub.status.idle": "2024-02-09T07:47:32.196514Z",
     "shell.execute_reply": "2024-02-09T07:47:32.194885Z",
     "shell.execute_reply.started": "2024-02-09T07:47:32.188470Z"
    }
   },
   "outputs": [],
   "source": [
    "print(Y)\n"
   ]
  },
  {
   "cell_type": "code",
   "execution_count": null,
   "metadata": {
    "execution": {
     "iopub.execute_input": "2024-02-09T07:47:33.963926Z",
     "iopub.status.busy": "2024-02-09T07:47:33.963469Z",
     "iopub.status.idle": "2024-02-09T07:47:35.083110Z",
     "shell.execute_reply": "2024-02-09T07:47:35.081597Z",
     "shell.execute_reply.started": "2024-02-09T07:47:33.963893Z"
    }
   },
   "outputs": [],
   "source": [
    "#Spitting data to training and test data\n",
    "\n",
    "X_train, X_test, Y_train, Y_test = train_test_split(X, Y, test_size=0.2, stratify=Y, random_state=2)\n"
   ]
  },
  {
   "cell_type": "code",
   "execution_count": null,
   "metadata": {
    "execution": {
     "iopub.execute_input": "2024-02-09T07:47:36.378659Z",
     "iopub.status.busy": "2024-02-09T07:47:36.378236Z",
     "iopub.status.idle": "2024-02-09T07:47:36.385285Z",
     "shell.execute_reply": "2024-02-09T07:47:36.383953Z",
     "shell.execute_reply.started": "2024-02-09T07:47:36.378627Z"
    }
   },
   "outputs": [],
   "source": [
    "print(X.shape, X_train.shape, X_test.shape)"
   ]
  },
  {
   "cell_type": "code",
   "execution_count": null,
   "metadata": {
    "execution": {
     "iopub.execute_input": "2024-02-09T07:47:37.903667Z",
     "iopub.status.busy": "2024-02-09T07:47:37.903230Z",
     "iopub.status.idle": "2024-02-09T07:47:37.911193Z",
     "shell.execute_reply": "2024-02-09T07:47:37.909330Z",
     "shell.execute_reply.started": "2024-02-09T07:47:37.903636Z"
    }
   },
   "outputs": [],
   "source": [
    "print(X_train)"
   ]
  },
  {
   "cell_type": "code",
   "execution_count": null,
   "metadata": {
    "execution": {
     "iopub.execute_input": "2024-02-09T07:47:39.234182Z",
     "iopub.status.busy": "2024-02-09T07:47:39.233359Z",
     "iopub.status.idle": "2024-02-09T07:47:39.240880Z",
     "shell.execute_reply": "2024-02-09T07:47:39.239666Z",
     "shell.execute_reply.started": "2024-02-09T07:47:39.234127Z"
    }
   },
   "outputs": [],
   "source": [
    "print(X_test)"
   ]
  },
  {
   "cell_type": "code",
   "execution_count": null,
   "metadata": {
    "execution": {
     "iopub.execute_input": "2024-02-09T07:47:40.998661Z",
     "iopub.status.busy": "2024-02-09T07:47:40.998200Z",
     "iopub.status.idle": "2024-02-09T07:48:10.327735Z",
     "shell.execute_reply": "2024-02-09T07:48:10.326397Z",
     "shell.execute_reply.started": "2024-02-09T07:47:40.998626Z"
    }
   },
   "outputs": [],
   "source": [
    "#feature_extraction(text data to numeric data)\n",
    "\n",
    "vectorizer = TfidfVectorizer()\n",
    "\n",
    "X_train = vectorizer.fit_transform(X_train)\n",
    "X_test = vectorizer.transform(X_test)\n"
   ]
  },
  {
   "cell_type": "code",
   "execution_count": null,
   "metadata": {
    "execution": {
     "iopub.execute_input": "2024-02-09T07:48:38.013678Z",
     "iopub.status.busy": "2024-02-09T07:48:38.013207Z",
     "iopub.status.idle": "2024-02-09T07:48:38.253096Z",
     "shell.execute_reply": "2024-02-09T07:48:38.251605Z",
     "shell.execute_reply.started": "2024-02-09T07:48:38.013647Z"
    }
   },
   "outputs": [],
   "source": [
    "print(X_train)"
   ]
  },
  {
   "cell_type": "code",
   "execution_count": null,
   "metadata": {
    "execution": {
     "iopub.execute_input": "2024-02-09T07:48:42.288566Z",
     "iopub.status.busy": "2024-02-09T07:48:42.288114Z",
     "iopub.status.idle": "2024-02-09T07:48:42.322124Z",
     "shell.execute_reply": "2024-02-09T07:48:42.320937Z",
     "shell.execute_reply.started": "2024-02-09T07:48:42.288533Z"
    }
   },
   "outputs": [],
   "source": [
    "print(X_test)"
   ]
  },
  {
   "cell_type": "code",
   "execution_count": null,
   "metadata": {
    "execution": {
     "iopub.execute_input": "2024-02-09T07:48:46.586861Z",
     "iopub.status.busy": "2024-02-09T07:48:46.586070Z",
     "iopub.status.idle": "2024-02-09T07:48:46.592977Z",
     "shell.execute_reply": "2024-02-09T07:48:46.591525Z",
     "shell.execute_reply.started": "2024-02-09T07:48:46.586814Z"
    }
   },
   "outputs": [],
   "source": [
    "# Training ML model using Logistic Regression\n",
    "\n",
    "model = LogisticRegression(max_iter=1000)\n"
   ]
  },
  {
   "cell_type": "code",
   "execution_count": null,
   "metadata": {
    "execution": {
     "iopub.execute_input": "2024-02-09T07:48:51.248579Z",
     "iopub.status.busy": "2024-02-09T07:48:51.248129Z",
     "iopub.status.idle": "2024-02-09T07:51:12.877022Z",
     "shell.execute_reply": "2024-02-09T07:51:12.875301Z",
     "shell.execute_reply.started": "2024-02-09T07:48:51.248549Z"
    }
   },
   "outputs": [],
   "source": [
    "model.fit(X_train, Y_train)"
   ]
  },
  {
   "cell_type": "code",
   "execution_count": null,
   "metadata": {
    "execution": {
     "iopub.execute_input": "2024-02-09T07:51:18.378936Z",
     "iopub.status.busy": "2024-02-09T07:51:18.378448Z",
     "iopub.status.idle": "2024-02-09T07:51:18.627638Z",
     "shell.execute_reply": "2024-02-09T07:51:18.626283Z",
     "shell.execute_reply.started": "2024-02-09T07:51:18.378901Z"
    }
   },
   "outputs": [],
   "source": [
    "#model evaluation (Accuracy Score on training data)\n",
    "\n",
    "X_train_prediction = model.predict(X_train)\n",
    "training_data_accuracy = accuracy_score(Y_train, X_train_prediction)"
   ]
  },
  {
   "cell_type": "code",
   "execution_count": null,
   "metadata": {
    "execution": {
     "iopub.execute_input": "2024-02-09T07:51:24.383428Z",
     "iopub.status.busy": "2024-02-09T07:51:24.382962Z",
     "iopub.status.idle": "2024-02-09T07:51:24.391378Z",
     "shell.execute_reply": "2024-02-09T07:51:24.389900Z",
     "shell.execute_reply.started": "2024-02-09T07:51:24.383396Z"
    }
   },
   "outputs": [],
   "source": [
    "print('Accuracy score on training data : ' , training_data_accuracy)"
   ]
  },
  {
   "cell_type": "code",
   "execution_count": null,
   "metadata": {
    "execution": {
     "iopub.execute_input": "2024-02-09T07:51:32.725061Z",
     "iopub.status.busy": "2024-02-09T07:51:32.723172Z",
     "iopub.status.idle": "2024-02-09T07:51:32.788233Z",
     "shell.execute_reply": "2024-02-09T07:51:32.786984Z",
     "shell.execute_reply.started": "2024-02-09T07:51:32.725011Z"
    }
   },
   "outputs": [],
   "source": [
    "#model evaluation (Accuracy Score on test data)\n",
    "\n",
    "X_test_prediction = model.predict(X_test)\n",
    "test_data_accuracy = accuracy_score(Y_test, X_test_prediction)"
   ]
  },
  {
   "cell_type": "code",
   "execution_count": null,
   "metadata": {
    "execution": {
     "iopub.execute_input": "2024-02-09T07:51:34.044088Z",
     "iopub.status.busy": "2024-02-09T07:51:34.043614Z",
     "iopub.status.idle": "2024-02-09T07:51:34.050628Z",
     "shell.execute_reply": "2024-02-09T07:51:34.048999Z",
     "shell.execute_reply.started": "2024-02-09T07:51:34.044054Z"
    }
   },
   "outputs": [],
   "source": [
    "print('Accuracy score on test data : ' , test_data_accuracy)"
   ]
  },
  {
   "cell_type": "markdown",
   "metadata": {},
   "source": [
    "SAVING TRAINED MODEL"
   ]
  },
  {
   "cell_type": "code",
   "execution_count": null,
   "metadata": {
    "execution": {
     "iopub.execute_input": "2024-02-09T07:51:37.263076Z",
     "iopub.status.busy": "2024-02-09T07:51:37.262592Z",
     "iopub.status.idle": "2024-02-09T07:51:37.268993Z",
     "shell.execute_reply": "2024-02-09T07:51:37.267239Z",
     "shell.execute_reply.started": "2024-02-09T07:51:37.263042Z"
    }
   },
   "outputs": [],
   "source": [
    "import pickle"
   ]
  },
  {
   "cell_type": "code",
   "execution_count": null,
   "metadata": {
    "execution": {
     "iopub.execute_input": "2024-02-09T07:51:39.724910Z",
     "iopub.status.busy": "2024-02-09T07:51:39.723559Z",
     "iopub.status.idle": "2024-02-09T07:51:39.738569Z",
     "shell.execute_reply": "2024-02-09T07:51:39.736831Z",
     "shell.execute_reply.started": "2024-02-09T07:51:39.724862Z"
    }
   },
   "outputs": [],
   "source": [
    "filename = 'trained_model.sav'\n",
    "pickle.dump(model, open(filename, 'wb'))"
   ]
  },
  {
   "cell_type": "code",
   "execution_count": null,
   "metadata": {
    "execution": {
     "iopub.execute_input": "2024-02-09T07:51:42.704024Z",
     "iopub.status.busy": "2024-02-09T07:51:42.703030Z",
     "iopub.status.idle": "2024-02-09T07:51:43.000116Z",
     "shell.execute_reply": "2024-02-09T07:51:42.998764Z",
     "shell.execute_reply.started": "2024-02-09T07:51:42.703974Z"
    }
   },
   "outputs": [],
   "source": [
    "\n",
    "# Save the vectorizer\n",
    "filename_vectorizer = 'vectorizer.sav'\n",
    "pickle.dump(vectorizer, open(filename_vectorizer, 'wb'))"
   ]
  },
  {
   "cell_type": "markdown",
   "metadata": {},
   "source": [
    "USING SAVED MODEL FOR FUTURE PREDICITON"
   ]
  },
  {
   "cell_type": "code",
   "execution_count": null,
   "metadata": {
    "execution": {
     "iopub.execute_input": "2024-02-09T07:51:45.589832Z",
     "iopub.status.busy": "2024-02-09T07:51:45.588336Z",
     "iopub.status.idle": "2024-02-09T07:51:45.597571Z",
     "shell.execute_reply": "2024-02-09T07:51:45.596287Z",
     "shell.execute_reply.started": "2024-02-09T07:51:45.589776Z"
    }
   },
   "outputs": [],
   "source": [
    "loaded_model = pickle.load(open('trained_model.sav','rb'))"
   ]
  },
  {
   "cell_type": "code",
   "execution_count": null,
   "metadata": {
    "execution": {
     "iopub.execute_input": "2024-02-09T07:51:48.658829Z",
     "iopub.status.busy": "2024-02-09T07:51:48.658348Z",
     "iopub.status.idle": "2024-02-09T07:51:48.669157Z",
     "shell.execute_reply": "2024-02-09T07:51:48.667531Z",
     "shell.execute_reply.started": "2024-02-09T07:51:48.658796Z"
    }
   },
   "outputs": [],
   "source": [
    "X_new = X_test[200]\n",
    "print(Y_test[200])\n",
    "prediction = loaded_model.predict(X_new)\n",
    "print(prediction)\n",
    "\n",
    "if (prediction[0] == 0):\n",
    "  print('Negative Tweet')\n",
    "\n",
    "else:\n",
    "  print('Positive Tweet')"
   ]
  },
  {
   "cell_type": "code",
   "execution_count": null,
   "metadata": {
    "execution": {
     "iopub.execute_input": "2024-02-09T07:51:51.348373Z",
     "iopub.status.busy": "2024-02-09T07:51:51.347923Z",
     "iopub.status.idle": "2024-02-09T07:51:51.359391Z",
     "shell.execute_reply": "2024-02-09T07:51:51.357745Z",
     "shell.execute_reply.started": "2024-02-09T07:51:51.348343Z"
    }
   },
   "outputs": [],
   "source": [
    "X_new = X_test[3]\n",
    "print(Y_test[3])\n",
    "prediction = loaded_model.predict(X_new)\n",
    "print(prediction)\n",
    "\n",
    "if (prediction[0] == 0):\n",
    "  print('Negative Tweet')\n",
    "\n",
    "else:\n",
    "  print('Positive Tweet')"
   ]
  },
  {
   "cell_type": "markdown",
   "metadata": {},
   "source": [
    "USING SAVED MODEL"
   ]
  },
  {
   "cell_type": "code",
   "execution_count": 2,
   "metadata": {
    "execution": {
     "iopub.execute_input": "2024-02-09T07:51:53.988076Z",
     "iopub.status.busy": "2024-02-09T07:51:53.987606Z",
     "iopub.status.idle": "2024-02-09T07:51:53.996219Z",
     "shell.execute_reply": "2024-02-09T07:51:53.994905Z",
     "shell.execute_reply.started": "2024-02-09T07:51:53.988035Z"
    }
   },
   "outputs": [],
   "source": [
    "# Importing necessary libraries\n",
    "import numpy as np\n",
    "import pandas as pd\n",
    "import re\n",
    "from nltk.corpus import stopwords\n",
    "from nltk.stem.porter import PorterStemmer\n",
    "from sklearn.feature_extraction.text import TfidfVectorizer\n",
    "from sklearn.model_selection import train_test_split\n",
    "from sklearn.linear_model import LogisticRegression\n",
    "from sklearn.metrics import accuracy_score\n",
    "import nltk\n",
    "import pickle"
   ]
  },
  {
   "cell_type": "code",
   "execution_count": 3,
   "metadata": {
    "execution": {
     "iopub.execute_input": "2024-02-09T07:51:56.543983Z",
     "iopub.status.busy": "2024-02-09T07:51:56.543514Z",
     "iopub.status.idle": "2024-02-09T07:51:56.550321Z",
     "shell.execute_reply": "2024-02-09T07:51:56.548796Z",
     "shell.execute_reply.started": "2024-02-09T07:51:56.543951Z"
    }
   },
   "outputs": [],
   "source": [
    "import nltk"
   ]
  },
  {
   "cell_type": "code",
   "execution_count": 4,
   "metadata": {
    "execution": {
     "iopub.execute_input": "2024-02-09T07:51:58.713512Z",
     "iopub.status.busy": "2024-02-09T07:51:58.713051Z",
     "iopub.status.idle": "2024-02-09T07:51:58.720234Z",
     "shell.execute_reply": "2024-02-09T07:51:58.718566Z",
     "shell.execute_reply.started": "2024-02-09T07:51:58.713479Z"
    }
   },
   "outputs": [],
   "source": [
    "from nltk.corpus import stopwords"
   ]
  },
  {
   "cell_type": "code",
   "execution_count": 5,
   "metadata": {
    "execution": {
     "iopub.execute_input": "2024-02-09T07:52:01.033645Z",
     "iopub.status.busy": "2024-02-09T07:52:01.033178Z",
     "iopub.status.idle": "2024-02-09T07:52:01.041643Z",
     "shell.execute_reply": "2024-02-09T07:52:01.039824Z",
     "shell.execute_reply.started": "2024-02-09T07:52:01.033613Z"
    }
   },
   "outputs": [],
   "source": [
    "# Function for text preprocessing\n",
    "def preprocess_text(text):\n",
    "    text = re.sub('[^a-zA-Z]', ' ', text)\n",
    "    text = text.lower()\n",
    "    text = text.split()\n",
    "    text = [word for word in text if not word in set(stopwords.words('english'))]\n",
    "    text = ' '.join(text)\n",
    "    return text"
   ]
  },
  {
   "cell_type": "code",
   "execution_count": 6,
   "metadata": {
    "execution": {
     "iopub.execute_input": "2024-02-09T07:52:04.059154Z",
     "iopub.status.busy": "2024-02-09T07:52:04.058547Z",
     "iopub.status.idle": "2024-02-09T07:52:04.066206Z",
     "shell.execute_reply": "2024-02-09T07:52:04.064839Z",
     "shell.execute_reply.started": "2024-02-09T07:52:04.059115Z"
    }
   },
   "outputs": [
    {
     "name": "stderr",
     "output_type": "stream",
     "text": [
      "/home/op_pranay/.local/lib/python3.10/site-packages/sklearn/base.py:376: InconsistentVersionWarning: Trying to unpickle estimator LogisticRegression from version 1.2.2 when using version 1.4.1.post1. This might lead to breaking code or invalid results. Use at your own risk. For more info please refer to:\n",
      "https://scikit-learn.org/stable/model_persistence.html#security-maintainability-limitations\n",
      "  warnings.warn(\n"
     ]
    }
   ],
   "source": [
    "# Load the pre-trained model\n",
    "loaded_model = pickle.load(open('trained_model.sav', 'rb'))"
   ]
  },
  {
   "cell_type": "code",
   "execution_count": 7,
   "metadata": {
    "execution": {
     "iopub.execute_input": "2024-02-09T07:52:08.119776Z",
     "iopub.status.busy": "2024-02-09T07:52:08.118123Z",
     "iopub.status.idle": "2024-02-09T07:52:08.127334Z",
     "shell.execute_reply": "2024-02-09T07:52:08.126062Z",
     "shell.execute_reply.started": "2024-02-09T07:52:08.119732Z"
    }
   },
   "outputs": [],
   "source": [
    "\n",
    "# Function for sentiment analysis\n",
    "def predict_sentiment(input_text):\n",
    "    # Preprocess the input text\n",
    "    input_text = preprocess_text(input_text)\n",
    "\n",
    "    # Vectorize the input text using the same vectorizer as during training\n",
    "    input_vectorized = vectorizer.transform([input_text])\n",
    "\n",
    "    # Make prediction\n",
    "    prediction = loaded_model.predict(input_vectorized)\n",
    "\n",
    "    # Display the result\n",
    "    if prediction[0] == 0:\n",
    "        return 'Negative Tweet'\n",
    "    else:\n",
    "        return 'Positive Tweet'\n"
   ]
  },
  {
   "cell_type": "code",
   "execution_count": 8,
   "metadata": {
    "execution": {
     "iopub.execute_input": "2024-02-09T07:52:10.264173Z",
     "iopub.status.busy": "2024-02-09T07:52:10.262878Z",
     "iopub.status.idle": "2024-02-09T07:52:10.545097Z",
     "shell.execute_reply": "2024-02-09T07:52:10.543781Z",
     "shell.execute_reply.started": "2024-02-09T07:52:10.264104Z"
    }
   },
   "outputs": [
    {
     "name": "stderr",
     "output_type": "stream",
     "text": [
      "/home/op_pranay/.local/lib/python3.10/site-packages/sklearn/base.py:376: InconsistentVersionWarning: Trying to unpickle estimator TfidfTransformer from version 1.2.2 when using version 1.4.1.post1. This might lead to breaking code or invalid results. Use at your own risk. For more info please refer to:\n",
      "https://scikit-learn.org/stable/model_persistence.html#security-maintainability-limitations\n",
      "  warnings.warn(\n",
      "/home/op_pranay/.local/lib/python3.10/site-packages/sklearn/base.py:376: InconsistentVersionWarning: Trying to unpickle estimator TfidfVectorizer from version 1.2.2 when using version 1.4.1.post1. This might lead to breaking code or invalid results. Use at your own risk. For more info please refer to:\n",
      "https://scikit-learn.org/stable/model_persistence.html#security-maintainability-limitations\n",
      "  warnings.warn(\n"
     ]
    }
   ],
   "source": [
    "# Load the vectorizer used during training\n",
    "vectorizer = pickle.load(open('vectorizer.sav', 'rb'))"
   ]
  },
  {
   "cell_type": "code",
   "execution_count": 9,
   "metadata": {
    "execution": {
     "iopub.execute_input": "2024-02-09T07:52:12.658918Z",
     "iopub.status.busy": "2024-02-09T07:52:12.658424Z",
     "iopub.status.idle": "2024-02-09T07:52:22.495144Z",
     "shell.execute_reply": "2024-02-09T07:52:22.493877Z",
     "shell.execute_reply.started": "2024-02-09T07:52:12.658872Z"
    }
   },
   "outputs": [
    {
     "name": "stdout",
     "output_type": "stream",
     "text": [
      "Enter a tweet: areyou mad\n",
      "Prediction: Negative Tweet\n"
     ]
    }
   ],
   "source": [
    "# Example usage\n",
    "user_input = input(\"Enter a tweet: \") #Input tweet -- ARE YOU MAD ?\n",
    "result = predict_sentiment(user_input)\n",
    "print(\"Prediction:\", result)\n"
   ]
  },
  {
   "cell_type": "code",
   "execution_count": null,
   "metadata": {},
   "outputs": [],
   "source": []
  },
  {
   "cell_type": "code",
   "execution_count": null,
   "metadata": {},
   "outputs": [],
   "source": []
  }
 ],
 "metadata": {
  "kaggle": {
   "accelerator": "none",
   "dataSources": [
    {
     "datasetId": 2477,
     "sourceId": 4140,
     "sourceType": "datasetVersion"
    }
   ],
   "dockerImageVersionId": 30646,
   "isGpuEnabled": false,
   "isInternetEnabled": false,
   "language": "python",
   "sourceType": "notebook"
  },
  "kernelspec": {
   "display_name": "Python 3 (ipykernel)",
   "language": "python",
   "name": "python3"
  },
  "language_info": {
   "codemirror_mode": {
    "name": "ipython",
    "version": 3
   },
   "file_extension": ".py",
   "mimetype": "text/x-python",
   "name": "python",
   "nbconvert_exporter": "python",
   "pygments_lexer": "ipython3",
   "version": "3.10.12"
  }
 },
 "nbformat": 4,
 "nbformat_minor": 4
}
